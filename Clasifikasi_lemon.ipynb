{
 "cells": [
  {
   "cell_type": "code",
   "execution_count": 3,
   "id": "20827086-a71d-46ef-b802-58fa2e3eb589",
   "metadata": {},
   "outputs": [
    {
     "data": {
      "text/html": [
       "<div>\n",
       "<style scoped>\n",
       "    .dataframe tbody tr th:only-of-type {\n",
       "        vertical-align: middle;\n",
       "    }\n",
       "\n",
       "    .dataframe tbody tr th {\n",
       "        vertical-align: top;\n",
       "    }\n",
       "\n",
       "    .dataframe thead th {\n",
       "        text-align: right;\n",
       "    }\n",
       "</style>\n",
       "<table border=\"1\" class=\"dataframe\">\n",
       "  <thead>\n",
       "    <tr style=\"text-align: right;\">\n",
       "      <th></th>\n",
       "      <th>diameter</th>\n",
       "      <th>berat</th>\n",
       "      <th>tebal_kulit</th>\n",
       "      <th>kadar_gula</th>\n",
       "      <th>asal_daerah</th>\n",
       "      <th>musim_panen</th>\n",
       "      <th>warna</th>\n",
       "      <th>kualitas</th>\n",
       "    </tr>\n",
       "  </thead>\n",
       "  <tbody>\n",
       "    <tr>\n",
       "      <th>0</th>\n",
       "      <td>57.1</td>\n",
       "      <td>105</td>\n",
       "      <td>3.7</td>\n",
       "      <td>8.4</td>\n",
       "      <td>California</td>\n",
       "      <td>Puncak</td>\n",
       "      <td>Kuning cerah</td>\n",
       "      <td>Grade A</td>\n",
       "    </tr>\n",
       "    <tr>\n",
       "      <th>1</th>\n",
       "      <td>60.2</td>\n",
       "      <td>118</td>\n",
       "      <td>3.8</td>\n",
       "      <td>8.2</td>\n",
       "      <td>Malang</td>\n",
       "      <td>Puncak</td>\n",
       "      <td>Kuning cerah</td>\n",
       "      <td>Grade A</td>\n",
       "    </tr>\n",
       "    <tr>\n",
       "      <th>2</th>\n",
       "      <td>48.5</td>\n",
       "      <td>80</td>\n",
       "      <td>4.6</td>\n",
       "      <td>7.8</td>\n",
       "      <td>Medan</td>\n",
       "      <td>Akhir</td>\n",
       "      <td>Kuning kehijauan</td>\n",
       "      <td>Grade B</td>\n",
       "    </tr>\n",
       "    <tr>\n",
       "      <th>3</th>\n",
       "      <td>65.8</td>\n",
       "      <td>136</td>\n",
       "      <td>5.1</td>\n",
       "      <td>7.0</td>\n",
       "      <td>California</td>\n",
       "      <td>Akhir</td>\n",
       "      <td>Hijau pekat</td>\n",
       "      <td>Reject</td>\n",
       "    </tr>\n",
       "    <tr>\n",
       "      <th>4</th>\n",
       "      <td>55.9</td>\n",
       "      <td>101</td>\n",
       "      <td>3.5</td>\n",
       "      <td>8.5</td>\n",
       "      <td>Malang</td>\n",
       "      <td>Awal</td>\n",
       "      <td>Kuning cerah</td>\n",
       "      <td>Grade A</td>\n",
       "    </tr>\n",
       "    <tr>\n",
       "      <th>...</th>\n",
       "      <td>...</td>\n",
       "      <td>...</td>\n",
       "      <td>...</td>\n",
       "      <td>...</td>\n",
       "      <td>...</td>\n",
       "      <td>...</td>\n",
       "      <td>...</td>\n",
       "      <td>...</td>\n",
       "    </tr>\n",
       "    <tr>\n",
       "      <th>790</th>\n",
       "      <td>54.9</td>\n",
       "      <td>98</td>\n",
       "      <td>4.2</td>\n",
       "      <td>7.7</td>\n",
       "      <td>Medan</td>\n",
       "      <td>Akhir</td>\n",
       "      <td>Kuning kehijauan</td>\n",
       "      <td>Grade B</td>\n",
       "    </tr>\n",
       "    <tr>\n",
       "      <th>791</th>\n",
       "      <td>67.2</td>\n",
       "      <td>141</td>\n",
       "      <td>5.7</td>\n",
       "      <td>6.8</td>\n",
       "      <td>California</td>\n",
       "      <td>Akhir</td>\n",
       "      <td>Hijau pekat</td>\n",
       "      <td>Reject</td>\n",
       "    </tr>\n",
       "    <tr>\n",
       "      <th>792</th>\n",
       "      <td>57.0</td>\n",
       "      <td>105</td>\n",
       "      <td>3.5</td>\n",
       "      <td>8.4</td>\n",
       "      <td>Malang</td>\n",
       "      <td>Awal</td>\n",
       "      <td>Kuning cerah</td>\n",
       "      <td>Grade A</td>\n",
       "    </tr>\n",
       "    <tr>\n",
       "      <th>793</th>\n",
       "      <td>51.1</td>\n",
       "      <td>89</td>\n",
       "      <td>4.5</td>\n",
       "      <td>7.9</td>\n",
       "      <td>Medan</td>\n",
       "      <td>Puncak</td>\n",
       "      <td>Kuning kehijauan</td>\n",
       "      <td>Grade B</td>\n",
       "    </tr>\n",
       "    <tr>\n",
       "      <th>794</th>\n",
       "      <td>59.0</td>\n",
       "      <td>110</td>\n",
       "      <td>3.9</td>\n",
       "      <td>8.0</td>\n",
       "      <td>California</td>\n",
       "      <td>Puncak</td>\n",
       "      <td>Kuning cerah</td>\n",
       "      <td>Grade A</td>\n",
       "    </tr>\n",
       "  </tbody>\n",
       "</table>\n",
       "<p>795 rows × 8 columns</p>\n",
       "</div>"
      ],
      "text/plain": [
       "     diameter  berat  tebal_kulit  kadar_gula asal_daerah musim_panen  \\\n",
       "0        57.1    105          3.7         8.4  California      Puncak   \n",
       "1        60.2    118          3.8         8.2      Malang      Puncak   \n",
       "2        48.5     80          4.6         7.8       Medan       Akhir   \n",
       "3        65.8    136          5.1         7.0  California       Akhir   \n",
       "4        55.9    101          3.5         8.5      Malang        Awal   \n",
       "..        ...    ...          ...         ...         ...         ...   \n",
       "790      54.9     98          4.2         7.7       Medan       Akhir   \n",
       "791      67.2    141          5.7         6.8  California       Akhir   \n",
       "792      57.0    105          3.5         8.4      Malang        Awal   \n",
       "793      51.1     89          4.5         7.9       Medan      Puncak   \n",
       "794      59.0    110          3.9         8.0  California      Puncak   \n",
       "\n",
       "                warna kualitas  \n",
       "0        Kuning cerah  Grade A  \n",
       "1        Kuning cerah  Grade A  \n",
       "2    Kuning kehijauan  Grade B  \n",
       "3         Hijau pekat   Reject  \n",
       "4        Kuning cerah  Grade A  \n",
       "..                ...      ...  \n",
       "790  Kuning kehijauan  Grade B  \n",
       "791       Hijau pekat   Reject  \n",
       "792      Kuning cerah  Grade A  \n",
       "793  Kuning kehijauan  Grade B  \n",
       "794      Kuning cerah  Grade A  \n",
       "\n",
       "[795 rows x 8 columns]"
      ]
     },
     "execution_count": 3,
     "metadata": {},
     "output_type": "execute_result"
    }
   ],
   "source": [
    "import pandas as pd\n",
    "\n",
    "df = pd.read_csv(\"dataset_lemon.csv\")\n",
    "df"
   ]
  },
  {
   "cell_type": "code",
   "execution_count": 4,
   "id": "dff33488-c1dc-482e-aeae-2ac2f2704f28",
   "metadata": {},
   "outputs": [
    {
     "data": {
      "text/plain": [
       "(795, 8)"
      ]
     },
     "execution_count": 4,
     "metadata": {},
     "output_type": "execute_result"
    }
   ],
   "source": [
    "df.shape"
   ]
  },
  {
   "cell_type": "code",
   "execution_count": 5,
   "id": "ccfe44c5-f98c-4411-93df-4ea291280be8",
   "metadata": {},
   "outputs": [
    {
     "data": {
      "text/plain": [
       "Index(['diameter', 'berat', 'tebal_kulit', 'kadar_gula', 'asal_daerah',\n",
       "       'musim_panen', 'warna', 'kualitas'],\n",
       "      dtype='object')"
      ]
     },
     "execution_count": 5,
     "metadata": {},
     "output_type": "execute_result"
    }
   ],
   "source": [
    "df.columns"
   ]
  },
  {
   "cell_type": "code",
   "execution_count": 6,
   "id": "f5576852-c010-4d8c-b257-d8bf8f49d052",
   "metadata": {},
   "outputs": [
    {
     "name": "stdout",
     "output_type": "stream",
     "text": [
      "<class 'pandas.core.frame.DataFrame'>\n",
      "RangeIndex: 795 entries, 0 to 794\n",
      "Data columns (total 8 columns):\n",
      " #   Column       Non-Null Count  Dtype  \n",
      "---  ------       --------------  -----  \n",
      " 0   diameter     795 non-null    float64\n",
      " 1   berat        795 non-null    int64  \n",
      " 2   tebal_kulit  795 non-null    float64\n",
      " 3   kadar_gula   795 non-null    float64\n",
      " 4   asal_daerah  795 non-null    object \n",
      " 5   musim_panen  795 non-null    object \n",
      " 6   warna        795 non-null    object \n",
      " 7   kualitas     795 non-null    object \n",
      "dtypes: float64(3), int64(1), object(4)\n",
      "memory usage: 49.8+ KB\n"
     ]
    }
   ],
   "source": [
    "df.info()"
   ]
  },
  {
   "cell_type": "code",
   "execution_count": 7,
   "id": "bf17045f-83b7-43cc-a95a-1b7d4722074f",
   "metadata": {},
   "outputs": [
    {
     "data": {
      "text/plain": [
       "<bound method NDFrame.describe of      diameter  berat  tebal_kulit  kadar_gula asal_daerah musim_panen  \\\n",
       "0        57.1    105          3.7         8.4  California      Puncak   \n",
       "1        60.2    118          3.8         8.2      Malang      Puncak   \n",
       "2        48.5     80          4.6         7.8       Medan       Akhir   \n",
       "3        65.8    136          5.1         7.0  California       Akhir   \n",
       "4        55.9    101          3.5         8.5      Malang        Awal   \n",
       "..        ...    ...          ...         ...         ...         ...   \n",
       "790      54.9     98          4.2         7.7       Medan       Akhir   \n",
       "791      67.2    141          5.7         6.8  California       Akhir   \n",
       "792      57.0    105          3.5         8.4      Malang        Awal   \n",
       "793      51.1     89          4.5         7.9       Medan      Puncak   \n",
       "794      59.0    110          3.9         8.0  California      Puncak   \n",
       "\n",
       "                warna kualitas  \n",
       "0        Kuning cerah  Grade A  \n",
       "1        Kuning cerah  Grade A  \n",
       "2    Kuning kehijauan  Grade B  \n",
       "3         Hijau pekat   Reject  \n",
       "4        Kuning cerah  Grade A  \n",
       "..                ...      ...  \n",
       "790  Kuning kehijauan  Grade B  \n",
       "791       Hijau pekat   Reject  \n",
       "792      Kuning cerah  Grade A  \n",
       "793  Kuning kehijauan  Grade B  \n",
       "794      Kuning cerah  Grade A  \n",
       "\n",
       "[795 rows x 8 columns]>"
      ]
     },
     "execution_count": 7,
     "metadata": {},
     "output_type": "execute_result"
    }
   ],
   "source": [
    "df.describe"
   ]
  },
  {
   "cell_type": "code",
   "execution_count": 8,
   "id": "e2849367-edf8-4d39-9ed4-c211689b2c6c",
   "metadata": {},
   "outputs": [
    {
     "data": {
      "text/plain": [
       "asal_daerah\n",
       "California    265\n",
       "Malang        265\n",
       "Medan         265\n",
       "Name: count, dtype: int64"
      ]
     },
     "execution_count": 8,
     "metadata": {},
     "output_type": "execute_result"
    }
   ],
   "source": [
    "df[\"asal_daerah\"].value_counts()"
   ]
  },
  {
   "cell_type": "code",
   "execution_count": 9,
   "id": "a59cf8ac-111a-429c-a1fb-af0597b0901c",
   "metadata": {},
   "outputs": [
    {
     "data": {
      "text/plain": [
       "warna\n",
       "Kuning cerah        346\n",
       "Kuning kehijauan    290\n",
       "Hijau pekat         159\n",
       "Name: count, dtype: int64"
      ]
     },
     "execution_count": 9,
     "metadata": {},
     "output_type": "execute_result"
    }
   ],
   "source": [
    "df[\"warna\"].value_counts()"
   ]
  },
  {
   "cell_type": "code",
   "execution_count": 10,
   "id": "129637cb-66e8-4c27-8be9-c2c32d591a47",
   "metadata": {},
   "outputs": [
    {
     "data": {
      "text/plain": [
       "musim_panen\n",
       "Puncak    318\n",
       "Akhir     239\n",
       "Awal      238\n",
       "Name: count, dtype: int64"
      ]
     },
     "execution_count": 10,
     "metadata": {},
     "output_type": "execute_result"
    }
   ],
   "source": [
    "df[\"musim_panen\"].value_counts()"
   ]
  },
  {
   "cell_type": "code",
   "execution_count": 11,
   "id": "d34a1c3d-b7bc-436a-941e-83f83c77f42f",
   "metadata": {},
   "outputs": [
    {
     "data": {
      "text/plain": [
       "kualitas\n",
       "Grade A    346\n",
       "Grade B    290\n",
       "Reject     159\n",
       "Name: count, dtype: int64"
      ]
     },
     "execution_count": 11,
     "metadata": {},
     "output_type": "execute_result"
    }
   ],
   "source": [
    "df[\"kualitas\"].value_counts()"
   ]
  },
  {
   "cell_type": "code",
   "execution_count": 12,
   "id": "f6f834fc-b050-4283-a5a8-c28481257815",
   "metadata": {},
   "outputs": [
    {
     "data": {
      "text/html": [
       "<div>\n",
       "<style scoped>\n",
       "    .dataframe tbody tr th:only-of-type {\n",
       "        vertical-align: middle;\n",
       "    }\n",
       "\n",
       "    .dataframe tbody tr th {\n",
       "        vertical-align: top;\n",
       "    }\n",
       "\n",
       "    .dataframe thead th {\n",
       "        text-align: right;\n",
       "    }\n",
       "</style>\n",
       "<table border=\"1\" class=\"dataframe\">\n",
       "  <thead>\n",
       "    <tr style=\"text-align: right;\">\n",
       "      <th></th>\n",
       "      <th>diameter</th>\n",
       "      <th>berat</th>\n",
       "      <th>tebal_kulit</th>\n",
       "      <th>kadar_gula</th>\n",
       "      <th>asal_daerah</th>\n",
       "      <th>musim_panen</th>\n",
       "      <th>warna</th>\n",
       "      <th>kualitas</th>\n",
       "    </tr>\n",
       "  </thead>\n",
       "  <tbody>\n",
       "    <tr>\n",
       "      <th>0</th>\n",
       "      <td>57.1</td>\n",
       "      <td>105</td>\n",
       "      <td>3.7</td>\n",
       "      <td>8.4</td>\n",
       "      <td>California</td>\n",
       "      <td>Puncak</td>\n",
       "      <td>Kuning cerah</td>\n",
       "      <td>Grade A</td>\n",
       "    </tr>\n",
       "    <tr>\n",
       "      <th>1</th>\n",
       "      <td>60.2</td>\n",
       "      <td>118</td>\n",
       "      <td>3.8</td>\n",
       "      <td>8.2</td>\n",
       "      <td>Malang</td>\n",
       "      <td>Puncak</td>\n",
       "      <td>Kuning cerah</td>\n",
       "      <td>Grade A</td>\n",
       "    </tr>\n",
       "    <tr>\n",
       "      <th>2</th>\n",
       "      <td>48.5</td>\n",
       "      <td>80</td>\n",
       "      <td>4.6</td>\n",
       "      <td>7.8</td>\n",
       "      <td>Medan</td>\n",
       "      <td>Akhir</td>\n",
       "      <td>Kuning kehijauan</td>\n",
       "      <td>Grade B</td>\n",
       "    </tr>\n",
       "    <tr>\n",
       "      <th>3</th>\n",
       "      <td>65.8</td>\n",
       "      <td>136</td>\n",
       "      <td>5.1</td>\n",
       "      <td>7.0</td>\n",
       "      <td>California</td>\n",
       "      <td>Akhir</td>\n",
       "      <td>Hijau pekat</td>\n",
       "      <td>Reject</td>\n",
       "    </tr>\n",
       "    <tr>\n",
       "      <th>4</th>\n",
       "      <td>55.9</td>\n",
       "      <td>101</td>\n",
       "      <td>3.5</td>\n",
       "      <td>8.5</td>\n",
       "      <td>Malang</td>\n",
       "      <td>Awal</td>\n",
       "      <td>Kuning cerah</td>\n",
       "      <td>Grade A</td>\n",
       "    </tr>\n",
       "  </tbody>\n",
       "</table>\n",
       "</div>"
      ],
      "text/plain": [
       "   diameter  berat  tebal_kulit  kadar_gula asal_daerah musim_panen  \\\n",
       "0      57.1    105          3.7         8.4  California      Puncak   \n",
       "1      60.2    118          3.8         8.2      Malang      Puncak   \n",
       "2      48.5     80          4.6         7.8       Medan       Akhir   \n",
       "3      65.8    136          5.1         7.0  California       Akhir   \n",
       "4      55.9    101          3.5         8.5      Malang        Awal   \n",
       "\n",
       "              warna kualitas  \n",
       "0      Kuning cerah  Grade A  \n",
       "1      Kuning cerah  Grade A  \n",
       "2  Kuning kehijauan  Grade B  \n",
       "3       Hijau pekat   Reject  \n",
       "4      Kuning cerah  Grade A  "
      ]
     },
     "execution_count": 12,
     "metadata": {},
     "output_type": "execute_result"
    }
   ],
   "source": [
    "df.head()"
   ]
  },
  {
   "cell_type": "code",
   "execution_count": 20,
   "id": "75e1ebf4-0ef5-4302-bc14-48c6c1b73c71",
   "metadata": {},
   "outputs": [
    {
     "data": {
      "text/html": [
       "<div>\n",
       "<style scoped>\n",
       "    .dataframe tbody tr th:only-of-type {\n",
       "        vertical-align: middle;\n",
       "    }\n",
       "\n",
       "    .dataframe tbody tr th {\n",
       "        vertical-align: top;\n",
       "    }\n",
       "\n",
       "    .dataframe thead th {\n",
       "        text-align: right;\n",
       "    }\n",
       "</style>\n",
       "<table border=\"1\" class=\"dataframe\">\n",
       "  <thead>\n",
       "    <tr style=\"text-align: right;\">\n",
       "      <th></th>\n",
       "      <th>diameter</th>\n",
       "      <th>berat</th>\n",
       "      <th>tebal_kulit</th>\n",
       "      <th>kadar_gula</th>\n",
       "      <th>asal_daerah</th>\n",
       "      <th>musim_panen</th>\n",
       "      <th>warna</th>\n",
       "      <th>kualitas</th>\n",
       "    </tr>\n",
       "  </thead>\n",
       "  <tbody>\n",
       "    <tr>\n",
       "      <th>691</th>\n",
       "      <td>45.7</td>\n",
       "      <td>71</td>\n",
       "      <td>6.0</td>\n",
       "      <td>6.7</td>\n",
       "      <td>Medan</td>\n",
       "      <td>Akhir</td>\n",
       "      <td>Hijau pekat</td>\n",
       "      <td>Reject</td>\n",
       "    </tr>\n",
       "    <tr>\n",
       "      <th>662</th>\n",
       "      <td>57.8</td>\n",
       "      <td>107</td>\n",
       "      <td>3.7</td>\n",
       "      <td>8.3</td>\n",
       "      <td>California</td>\n",
       "      <td>Awal</td>\n",
       "      <td>Kuning cerah</td>\n",
       "      <td>Grade A</td>\n",
       "    </tr>\n",
       "    <tr>\n",
       "      <th>63</th>\n",
       "      <td>57.8</td>\n",
       "      <td>107</td>\n",
       "      <td>3.7</td>\n",
       "      <td>8.3</td>\n",
       "      <td>California</td>\n",
       "      <td>Awal</td>\n",
       "      <td>Kuning cerah</td>\n",
       "      <td>Grade A</td>\n",
       "    </tr>\n",
       "    <tr>\n",
       "      <th>531</th>\n",
       "      <td>46.5</td>\n",
       "      <td>72</td>\n",
       "      <td>5.6</td>\n",
       "      <td>7.3</td>\n",
       "      <td>Malang</td>\n",
       "      <td>Akhir</td>\n",
       "      <td>Hijau pekat</td>\n",
       "      <td>Reject</td>\n",
       "    </tr>\n",
       "    <tr>\n",
       "      <th>66</th>\n",
       "      <td>64.5</td>\n",
       "      <td>134</td>\n",
       "      <td>4.9</td>\n",
       "      <td>7.2</td>\n",
       "      <td>Malang</td>\n",
       "      <td>Akhir</td>\n",
       "      <td>Hijau pekat</td>\n",
       "      <td>Reject</td>\n",
       "    </tr>\n",
       "  </tbody>\n",
       "</table>\n",
       "</div>"
      ],
      "text/plain": [
       "     diameter  berat  tebal_kulit  kadar_gula asal_daerah musim_panen  \\\n",
       "691      45.7     71          6.0         6.7       Medan       Akhir   \n",
       "662      57.8    107          3.7         8.3  California        Awal   \n",
       "63       57.8    107          3.7         8.3  California        Awal   \n",
       "531      46.5     72          5.6         7.3      Malang       Akhir   \n",
       "66       64.5    134          4.9         7.2      Malang       Akhir   \n",
       "\n",
       "            warna kualitas  \n",
       "691   Hijau pekat   Reject  \n",
       "662  Kuning cerah  Grade A  \n",
       "63   Kuning cerah  Grade A  \n",
       "531   Hijau pekat   Reject  \n",
       "66    Hijau pekat   Reject  "
      ]
     },
     "execution_count": 20,
     "metadata": {},
     "output_type": "execute_result"
    }
   ],
   "source": [
    "df.sample(5,random_state=42)"
   ]
  },
  {
   "cell_type": "code",
   "execution_count": 13,
   "id": "6b342fba-df88-459d-86ae-95c109c2ef3a",
   "metadata": {},
   "outputs": [
    {
     "data": {
      "text/html": [
       "<div>\n",
       "<style scoped>\n",
       "    .dataframe tbody tr th:only-of-type {\n",
       "        vertical-align: middle;\n",
       "    }\n",
       "\n",
       "    .dataframe tbody tr th {\n",
       "        vertical-align: top;\n",
       "    }\n",
       "\n",
       "    .dataframe thead th {\n",
       "        text-align: right;\n",
       "    }\n",
       "</style>\n",
       "<table border=\"1\" class=\"dataframe\">\n",
       "  <thead>\n",
       "    <tr style=\"text-align: right;\">\n",
       "      <th></th>\n",
       "      <th>diameter</th>\n",
       "      <th>berat</th>\n",
       "      <th>tebal_kulit</th>\n",
       "      <th>kadar_gula</th>\n",
       "      <th>asal_daerah</th>\n",
       "      <th>musim_panen</th>\n",
       "      <th>warna</th>\n",
       "      <th>kualitas</th>\n",
       "    </tr>\n",
       "  </thead>\n",
       "  <tbody>\n",
       "    <tr>\n",
       "      <th>790</th>\n",
       "      <td>54.9</td>\n",
       "      <td>98</td>\n",
       "      <td>4.2</td>\n",
       "      <td>7.7</td>\n",
       "      <td>Medan</td>\n",
       "      <td>Akhir</td>\n",
       "      <td>Kuning kehijauan</td>\n",
       "      <td>Grade B</td>\n",
       "    </tr>\n",
       "    <tr>\n",
       "      <th>791</th>\n",
       "      <td>67.2</td>\n",
       "      <td>141</td>\n",
       "      <td>5.7</td>\n",
       "      <td>6.8</td>\n",
       "      <td>California</td>\n",
       "      <td>Akhir</td>\n",
       "      <td>Hijau pekat</td>\n",
       "      <td>Reject</td>\n",
       "    </tr>\n",
       "    <tr>\n",
       "      <th>792</th>\n",
       "      <td>57.0</td>\n",
       "      <td>105</td>\n",
       "      <td>3.5</td>\n",
       "      <td>8.4</td>\n",
       "      <td>Malang</td>\n",
       "      <td>Awal</td>\n",
       "      <td>Kuning cerah</td>\n",
       "      <td>Grade A</td>\n",
       "    </tr>\n",
       "    <tr>\n",
       "      <th>793</th>\n",
       "      <td>51.1</td>\n",
       "      <td>89</td>\n",
       "      <td>4.5</td>\n",
       "      <td>7.9</td>\n",
       "      <td>Medan</td>\n",
       "      <td>Puncak</td>\n",
       "      <td>Kuning kehijauan</td>\n",
       "      <td>Grade B</td>\n",
       "    </tr>\n",
       "    <tr>\n",
       "      <th>794</th>\n",
       "      <td>59.0</td>\n",
       "      <td>110</td>\n",
       "      <td>3.9</td>\n",
       "      <td>8.0</td>\n",
       "      <td>California</td>\n",
       "      <td>Puncak</td>\n",
       "      <td>Kuning cerah</td>\n",
       "      <td>Grade A</td>\n",
       "    </tr>\n",
       "  </tbody>\n",
       "</table>\n",
       "</div>"
      ],
      "text/plain": [
       "     diameter  berat  tebal_kulit  kadar_gula asal_daerah musim_panen  \\\n",
       "790      54.9     98          4.2         7.7       Medan       Akhir   \n",
       "791      67.2    141          5.7         6.8  California       Akhir   \n",
       "792      57.0    105          3.5         8.4      Malang        Awal   \n",
       "793      51.1     89          4.5         7.9       Medan      Puncak   \n",
       "794      59.0    110          3.9         8.0  California      Puncak   \n",
       "\n",
       "                warna kualitas  \n",
       "790  Kuning kehijauan  Grade B  \n",
       "791       Hijau pekat   Reject  \n",
       "792      Kuning cerah  Grade A  \n",
       "793  Kuning kehijauan  Grade B  \n",
       "794      Kuning cerah  Grade A  "
      ]
     },
     "execution_count": 13,
     "metadata": {},
     "output_type": "execute_result"
    }
   ],
   "source": [
    "df.tail()"
   ]
  },
  {
   "cell_type": "code",
   "execution_count": 21,
   "id": "e1d9c9fa-9a69-44ca-803a-935b9e90cb39",
   "metadata": {},
   "outputs": [
    {
     "data": {
      "image/png": "[encoded data removed]",
      "text/plain": [
       "<Figure size 500x500 with 1 Axes>"
      ]
     },
     "metadata": {},
     "output_type": "display_data"
    }
   ],
   "source": [
    "import matplotlib.pyplot as plt\n",
    "\n",
    "GradeA = df[df[\"kualitas\"]==\"Grade A\"]\n",
    "GradeB = df[df[\"kualitas\"]==\"Grade B\"]\n",
    "Reject = df[df[\"kualitas\"]==\"Reject\"]\n",
    "\n",
    "plt.figure(figsize=(5,5))\n",
    "\n",
    "plt.scatter(GradeA[\"diameter\"], GradeA[\"berat\"], s=100, alpha=0.7, color=\"green\", label=\"Grade A\")\n",
    "plt.scatter(GradeB[\"diameter\"], GradeB[\"berat\"], s=100, alpha=0.7, color=\"yellow\", label=\"Grade B\")\n",
    "plt.scatter(Reject[\"diameter\"], Reject[\"berat\"], s=100, alpha=0.7, color=\"red\", label=\"Reject\")\n",
    "plt.xlabel(\"Diameter\")\n",
    "plt.ylabel(\"Berat\")\n",
    "plt.title(\"Diameter vs Berat\")\n",
    "plt.legend()\n",
    "plt.grid(True, linestyle=\"--\", alpha=0.3)\n",
    "plt.show()"
   ]
  },
  {
   "cell_type": "code",
   "execution_count": 22,
   "id": "8ee90e02-8c55-47ab-9142-7e9bc6cb1a92",
   "metadata": {},
   "outputs": [
    {
     "data": {
      "image/png": "[encoded data removed]",
      "text/plain": [
       "<Figure size 500x500 with 1 Axes>"
      ]
     },
     "metadata": {},
     "output_type": "display_data"
    }
   ],
   "source": [
    "import matplotlib.pyplot as plt\n",
    "\n",
    "GradeA = df[df[\"kualitas\"]==\"Grade A\"]\n",
    "GradeB = df[df[\"kualitas\"]==\"Grade B\"]\n",
    "Reject = df[df[\"kualitas\"]==\"Reject\"]\n",
    "\n",
    "plt.figure(figsize=(5,5))\n",
    "\n",
    "plt.scatter(GradeA[\"tebal_kulit\"], GradeA[\"kadar_gula\"], s=100, alpha=0.7, color=\"green\", label=\"Grade A\")\n",
    "plt.scatter(GradeB[\"tebal_kulit\"], GradeB[\"kadar_gula\"], s=100, alpha=0.7, color=\"yellow\", label=\"Grade B\")\n",
    "plt.scatter(Reject[\"tebal_kulit\"], Reject[\"kadar_gula\"], s=100, alpha=0.7, color=\"red\", label=\"Reject\")\n",
    "plt.xlabel(\"Tebal Kulit\")\n",
    "plt.ylabel(\"Kadar Gula\")\n",
    "plt.title(\"Tebal Kulit vs Kadar Gula\")\n",
    "plt.legend()\n",
    "plt.grid(True, linestyle=\"--\", alpha=0.3)\n",
    "plt.show()"
   ]
  },
  {
   "cell_type": "code",
   "execution_count": 25,
   "id": "7aa2ae32-b0dc-475e-882b-a7f7b1ee7664",
   "metadata": {},
   "outputs": [
    {
     "name": "stdout",
     "output_type": "stream",
     "text": [
      "Accuracy : 1.0\n",
      "\n",
      "Classification Report :\n",
      "               precision    recall  f1-score   support\n",
      "\n",
      "     Grade A       1.00      1.00      1.00        71\n",
      "     Grade B       1.00      1.00      1.00        53\n",
      "      Reject       1.00      1.00      1.00        35\n",
      "\n",
      "    accuracy                           1.00       159\n",
      "   macro avg       1.00      1.00      1.00       159\n",
      "weighted avg       1.00      1.00      1.00       159\n",
      "\n",
      "\n",
      "Confusion Matrix :\n",
      " [[71  0  0]\n",
      " [ 0 53  0]\n",
      " [ 0  0 35]]\n",
      "\n",
      "Scores :\n",
      " [1. 1. 1. 1. 1.]\n",
      "\n",
      "Mean Scores : 1.0\n"
     ]
    }
   ],
   "source": [
    "from sklearn.linear_model import LogisticRegression\n",
    "from sklearn.model_selection import train_test_split, cross_val_score\n",
    "from sklearn.preprocessing import StandardScaler, OneHotEncoder, OrdinalEncoder\n",
    "from sklearn.metrics import accuracy_score,classification_report, confusion_matrix\n",
    "from sklearn.pipeline import Pipeline\n",
    "from sklearn.compose import ColumnTransformer\n",
    "\n",
    "X = df[[\"diameter\",\"berat\",\"tebal_kulit\",\"kadar_gula\",\"asal_daerah\",\"warna\",\"musim_panen\"]]\n",
    "y = df[\"kualitas\"]\n",
    "\n",
    "X_train, X_test, y_train, y_test = train_test_split(\n",
    "    X, y, test_size=0.2, random_state=42\n",
    ")\n",
    "\n",
    "numeric_columns = [\"diameter\", \"berat\", \"tebal_kulit\", \"kadar_gula\"]\n",
    "categorical_columns = [\"asal_daerah\",\"musim_panen\"]\n",
    "ordinal_columns = [\"warna\"]\n",
    "\n",
    "warna_order = [\"Hijau pekat\", \"Kuning kehijauan\", \"Kuning cerah\"]\n",
    "ordinal_order = [warna_order]\n",
    "\n",
    "preprocessing = ColumnTransformer(\n",
    "    transformers=[\n",
    "        (\"scaler\", StandardScaler(), numeric_columns),\n",
    "        (\"ohe\", OneHotEncoder(), categorical_columns),\n",
    "        (\"oe\", OrdinalEncoder(categories=ordinal_order), ordinal_columns)\n",
    "    ]\n",
    ")\n",
    "\n",
    "model = Pipeline(\n",
    "    steps=[\n",
    "        (\"preprocessing\", preprocessing),\n",
    "        (\"model\", LogisticRegression())\n",
    "    ]\n",
    ")\n",
    "\n",
    "model.fit(X_train, y_train)\n",
    "y_pred = model.predict(X_test)\n",
    "print(\"Accuracy :\", accuracy_score(y_test, y_pred))\n",
    "print(\"\\nClassification Report :\\n\", classification_report(y_test, y_pred))\n",
    "print(\"\\nConfusion Matrix :\\n\", confusion_matrix(y_test, y_pred))\n",
    "\n",
    "scores = cross_val_score(model,X, y, cv=5, scoring=\"accuracy\")\n",
    "print(\"\\nScores :\\n\", scores)\n",
    "print(\"\\nMean Scores :\",scores.mean())"
   ]
  },
  {
   "cell_type": "code",
   "execution_count": 17,
   "id": "12b9e4c5-de40-4d27-a9ea-039ae59562c2",
   "metadata": {},
   "outputs": [
    {
     "name": "stdout",
     "output_type": "stream",
     "text": [
      "Model memprediksi Grade B dengan tingkat keyakinan 59.44%\n"
     ]
    }
   ],
   "source": [
    "data_baru = pd.DataFrame([[7.89, 100, 0.35, 10, \"Medan\", \"Kuning cerah\", \"Puncak\"]],\n",
    "                         columns=[\"diameter\",\"berat\",\"tebal_kulit\",\"kadar_gula\",\"asal_daerah\",\"warna\",\"musim_panen\"])\n",
    "prediksi = model.predict(data_baru)[0]\n",
    "presentase = max(model.predict_proba(data_baru)[0])\n",
    "print(f\"Model memprediksi {prediksi} dengan tingkat keyakinan {presentase*100:.2f}%\")"
   ]
  },
  {
   "cell_type": "code",
   "execution_count": 18,
   "id": "3e924d48-48c5-47e6-a260-ca87d554c7c2",
   "metadata": {},
   "outputs": [
    {
     "data": {
      "text/plain": [
       "['model_klasifikasi_lemon.joblib']"
      ]
     },
     "execution_count": 18,
     "metadata": {},
     "output_type": "execute_result"
    }
   ],
   "source": [
    "import joblib\n",
    "\n",
    "joblib.dump(model, \"model_klasifikasi_lemon.joblib\")"
   ]
  }
 ],
 "metadata": {
  "kernelspec": {
   "display_name": "Python 3 (ipykernel)",
   "language": "python",
   "name": "python3"
  },
  "language_info": {
   "codemirror_mode": {
    "name": "ipython",
    "version": 3
   },
   "file_extension": ".py",
   "mimetype": "text/x-python",
   "name": "python",
   "nbconvert_exporter": "python",
   "pygments_lexer": "ipython3",
   "version": "3.11.9"
  }
 },
 "nbformat": 4,
 "nbformat_minor": 5
}
